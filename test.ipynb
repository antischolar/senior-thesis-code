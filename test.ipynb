{
 "cells": [
  {
   "cell_type": "markdown",
   "metadata": {},
   "source": [
    "Testing Playground"
   ]
  },
  {
   "cell_type": "code",
   "execution_count": 19,
   "metadata": {},
   "outputs": [
    {
     "name": "stdout",
     "output_type": "stream",
     "text": [
      "The autoreload extension is already loaded. To reload it, use:\n",
      "  %reload_ext autoreload\n"
     ]
    }
   ],
   "source": [
    "%load_ext autoreload\n",
    "%autoreload 2\n",
    "%matplotlib inline\n",
    "import numpy as np\n",
    "from matplotlib import pyplot as plt\n",
    "from universal_portfolio import universal_portfolio\n",
    "from ftl import ftl\n",
    "from ftrl import ftrl"
   ]
  },
  {
   "cell_type": "code",
   "execution_count": 20,
   "metadata": {},
   "outputs": [],
   "source": [
    "# intialization \n",
    "data = np.array([[2,0.5],[0.5,2],[2,0.5],[0.5,2],[2,0.5],[0.5,2]])\n",
    "up = universal_portfolio(2)\n",
    "follow_leader = ftl(2)\n",
    "follow_regularized = ftrl(2, 10)"
   ]
  },
  {
   "cell_type": "code",
   "execution_count": 21,
   "metadata": {},
   "outputs": [],
   "source": [
    "up_performance = up.ingest(data)\n",
    "ftl_performance = follow_leader.ingest(data)\n",
    "ftrl_performance = follow_regularized.ingest(data)"
   ]
  },
  {
   "cell_type": "code",
   "execution_count": 22,
   "metadata": {},
   "outputs": [
    {
     "name": "stdout",
     "output_type": "stream",
     "text": [
      "wealth growth: [1, 1.25, 1.4305202298430149, 1.7860293162826315, 2.0716579677328655, 2.5986327419689457, 3.0314712410023037]\n",
      "stock allocation: [[0.5, 0.5], [0.5, 0.5], [0.5703892107503937, 0.42961078924960744], [0.4990115619120491, 0.5009884380879575], [0.5600507789929117, 0.4399492210070884], [0.5029156300393157, 0.49708436996068334], [0.5556240423299407, 0.4443759576700588]]\n",
      "\n",
      "wealth growth: [1, 1.25, 0.6252231965036728, 0.7815452794571996, 0.651300333684764, 0.8141193352607142, 0.8143707391204236]\n",
      "stock allocation: [[0.5, 0.5], [0.5, 0.5], [0.9998809618647078, 0.00011903813529219968], [0.5000173632154615, 0.4999826367845385], [0.7777670291544238, 0.22223297084557608], [0.49999377466387757, 0.5000062253361224], [0.6664607968808989, 0.33353920311910107]]\n",
      "\n",
      "wealth growth: [1, 1.25, 1.534907383761876, 1.9186354944527109, 2.3840332797468577, 2.9800903906871254, 3.7119450096125237]\n",
      "stock allocation: [[0.5, 0.5], [0.5, 0.5], [0.5147160619936659, 0.48528393800633396], [0.5000005493275487, 0.4999994506724513], [0.5049552884016666, 0.4950447115983335], [0.5000136438261908, 0.4999863561738092], [0.5029457671904928, 0.4970542328095073]]\n",
      "\n"
     ]
    }
   ],
   "source": [
    "print(str(up_performance) + '\\n')\n",
    "print(str(ftl_performance) + '\\n')\n",
    "print(str(ftrl_performance) + '\\n')"
   ]
  },
  {
   "cell_type": "code",
   "execution_count": 23,
   "metadata": {},
   "outputs": [
    {
     "data": {
      "image/png": "[encoded data removed]",
      "text/plain": [
       "<Figure size 432x288 with 1 Axes>"
      ]
     },
     "metadata": {
      "needs_background": "light"
     },
     "output_type": "display_data"
    }
   ],
   "source": [
    "# graphing\n",
    "x = [i for i in range(len(data) + 1)]\n",
    "\n",
    "plt.plot(x, up_performance.wealth, 'r', label='UP')\n",
    "plt.plot(x, ftl_performance.wealth, 'b', label='FTL')\n",
    "plt.plot(x, ftrl_performance.wealth, 'g', label='FTRL')\n",
    "plt.legend(loc='upper left')\n",
    "plt.show()\n"
   ]
  },
  {
   "cell_type": "code",
   "execution_count": null,
   "metadata": {},
   "outputs": [],
   "source": []
  }
 ],
 "metadata": {
  "kernelspec": {
   "display_name": "Python 3.5.4 64-bit ('3.5.4')",
   "language": "python",
   "name": "python3"
  },
  "language_info": {
   "codemirror_mode": {
    "name": "ipython",
    "version": 3
   },
   "file_extension": ".py",
   "mimetype": "text/x-python",
   "name": "python",
   "nbconvert_exporter": "python",
   "pygments_lexer": "ipython3",
   "version": "3.5.4"
  },
  "orig_nbformat": 4,
  "vscode": {
   "interpreter": {
    "hash": "e7fe697d078ca5e324b0710a409708ed3635b91874bd83f52dcf304a6ee9c5ee"
   }
  }
 },
 "nbformat": 4,
 "nbformat_minor": 2
}
