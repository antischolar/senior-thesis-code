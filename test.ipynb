{
 "cells": [
  {
   "cell_type": "markdown",
   "metadata": {},
   "source": [
    "Testing Playground"
   ]
  },
  {
   "cell_type": "code",
   "execution_count": 6,
   "metadata": {},
   "outputs": [
    {
     "name": "stdout",
     "output_type": "stream",
     "text": [
      "The autoreload extension is already loaded. To reload it, use:\n",
      "  %reload_ext autoreload\n"
     ]
    }
   ],
   "source": [
    "%load_ext autoreload\n",
    "%autoreload 2\n",
    "%matplotlib inline\n",
    "import numpy as np\n",
    "from matplotlib import pyplot as plt\n",
    "from universal_portfolio import universal_portfolio\n",
    "from ftl import ftl\n",
    "from ftrl import ftrl"
   ]
  },
  {
   "cell_type": "code",
   "execution_count": 7,
   "metadata": {},
   "outputs": [],
   "source": [
    "# intialization \n",
    "data = np.array([[2,0.5],[0.5,2],[2,0.5],[0.5,2],[2,0.5],[0.5,2]])\n",
    "up = universal_portfolio(2)\n",
    "follow_leader = ftl(2)\n",
    "follow_regularized = ftrl(2, 10)"
   ]
  },
  {
   "cell_type": "code",
   "execution_count": 8,
   "metadata": {},
   "outputs": [],
   "source": [
    "up_performance = up.ingest(data)\n",
    "ftl_performance = follow_leader.ingest(data)\n",
    "ftrl_performance = follow_regularized.ingest(data)"
   ]
  },
  {
   "cell_type": "code",
   "execution_count": 9,
   "metadata": {},
   "outputs": [
    {
     "name": "stdout",
     "output_type": "stream",
     "text": [
      "wealth growth: [1, 1.25, 1.4335106968998153, 1.7933845718278898, 2.073890950875134, 2.5973643637251933, 3.03383081627732]\n",
      "stock allocation: [[0.5, 0.5], [0.5, 0.5], [0.5687942949867641, 0.4312057050132351], [0.500695821201454, 0.4993041787985456], [0.5623921816310532, 0.4376078183689449], [0.5016075017924401, 0.49839249820755016], [0.5546386281293888, 0.44536137187060915]]\n",
      "\n",
      "wealth growth: [1, 1.25, 0.6251512425210097, 0.7814541380784035, 0.6511921894648783, 0.8139860263886681, 0.8139750669809461]\n",
      "stock allocation: [[0.5, 0.5], [0.5, 0.5], [0.9999193373221282, 8.066267787181624e-05], [0.5000160866961627, 0.4999839133038373], [0.7777944921449811, 0.2222055078550189], [0.49999568950355155, 0.5000043104964484], [0.6666756425846528, 0.33332435741534727]]\n",
      "\n",
      "wealth growth: [1, 1.25, 1.5349769408172254, 1.9188520011859336, 2.3845388796238103, 2.9806824823073494, 3.7127069598791556]\n",
      "stock allocation: [[0.5, 0.5], [0.5, 0.5], [0.5146789648974799, 0.4853210351025201], [0.5000568196003137, 0.4999431803996863], [0.5048730949025558, 0.4951269050974443], [0.5000024834368503, 0.4999975165631497], [0.5029402981997274, 0.4970597018002726]]\n",
      "\n"
     ]
    }
   ],
   "source": [
    "print(str(up_performance) + '\\n')\n",
    "print(str(ftl_performance) + '\\n')\n",
    "print(str(ftrl_performance) + '\\n')"
   ]
  },
  {
   "cell_type": "code",
   "execution_count": 17,
   "metadata": {},
   "outputs": [
    {
     "data": {
      "image/png": "[encoded data removed]",
      "text/plain": [
       "<Figure size 432x288 with 1 Axes>"
      ]
     },
     "metadata": {
      "needs_background": "light"
     },
     "output_type": "display_data"
    }
   ],
   "source": [
    "# graphing\n",
    "x = [i for i in range(len(data) + 1)]\n",
    "\n",
    "plt.plot(x, up_performance.wealth, 'r', label='UP')\n",
    "plt.plot(x, ftl_performance.wealth, 'b', label='FTL')\n",
    "plt.plot(x, ftrl_performance.wealth, 'g', label='FTRL')\n",
    "plt.legend(loc='upper left')\n",
    "plt.show()\n"
   ]
  },
  {
   "cell_type": "code",
   "execution_count": null,
   "metadata": {},
   "outputs": [],
   "source": []
  }
 ],
 "metadata": {
  "interpreter": {
   "hash": "a8f50b728cdad3941e646f7aa73ad63f29bac8fcc068a85200d8876621de5120"
  },
  "kernelspec": {
   "display_name": "Python 3 (ipykernel)",
   "language": "python",
   "name": "python3"
  },
  "language_info": {
   "codemirror_mode": {
    "name": "ipython",
    "version": 3
   },
   "file_extension": ".py",
   "mimetype": "text/x-python",
   "name": "python",
   "nbconvert_exporter": "python",
   "pygments_lexer": "ipython3",
   "version": "3.5.4"
  },
  "orig_nbformat": 4
 },
 "nbformat": 4,
 "nbformat_minor": 2
}
