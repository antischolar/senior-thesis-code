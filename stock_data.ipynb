{
 "cells": [
  {
   "cell_type": "markdown",
   "metadata": {},
   "source": [
    "Testing Playground"
   ]
  },
  {
   "cell_type": "code",
   "execution_count": 82,
   "metadata": {},
   "outputs": [
    {
     "name": "stdout",
     "output_type": "stream",
     "text": [
      "The autoreload extension is already loaded. To reload it, use:\n",
      "  %reload_ext autoreload\n"
     ]
    }
   ],
   "source": [
    "%load_ext autoreload\n",
    "%autoreload 2\n",
    "%matplotlib inline\n",
    "import pickle\n",
    "import numpy as np\n",
    "from matplotlib import pyplot as plt\n",
    "from universal_portfolio import universal_portfolio\n",
    "from ftl import ftl\n",
    "from ftrl import ftrl\n",
    "from ogd import ogd"
   ]
  },
  {
   "cell_type": "code",
   "execution_count": 93,
   "metadata": {},
   "outputs": [],
   "source": [
    "# intialization\n",
    "dict = pickle.load(open('../data/stock_data.pickle', 'rb'))\n",
    "stock_tickers = ['GOOGL', 'NKE', 'AAPL', 'C', 'GS', 'QCOM', 'FB', 'TSLA', 'DD', 'NFLX']\n",
    "n = len(stock_tickers)\n",
    "data = []\n",
    "prev_price = [dict[i]['price'][0] for i in stock_tickers]\n",
    "for j in range(len(dict['GOOGL']['price'])):\n",
    "    curr_time_step = []\n",
    "    for i in range(n):\n",
    "        stock = stock_tickers[i]\n",
    "        curr_time_step.append(dict[stock]['price'][j] / prev_price[i])\n",
    "        prev_price[i] = dict[stock]['price'][j]\n",
    "    data.append(curr_time_step)\n",
    "data = np.array(data)\n",
    "# data = np.array([[2,0.5],[0.5,2],[2,0.5],[0.5,2],[2,0.5],[0.5,2]])\n",
    "up = universal_portfolio(n)\n",
    "follow_leader = ftl(n)\n",
    "follow_regularized = ftrl(n, 7)\n",
    "online_gradient = ogd(n, 5)"
   ]
  },
  {
   "cell_type": "code",
   "execution_count": 96,
   "metadata": {},
   "outputs": [],
   "source": [
    "up_performance = up.ingest(data)"
   ]
  },
  {
   "cell_type": "code",
   "execution_count": 97,
   "metadata": {},
   "outputs": [],
   "source": [
    "ftl_performance = follow_leader.ingest(data)"
   ]
  },
  {
   "cell_type": "code",
   "execution_count": 98,
   "metadata": {},
   "outputs": [],
   "source": [
    "ftrl_performance = follow_regularized.ingest(data)"
   ]
  },
  {
   "cell_type": "code",
   "execution_count": 94,
   "metadata": {},
   "outputs": [],
   "source": [
    "ogd_performance = online_gradient.ingest(data)"
   ]
  },
  {
   "cell_type": "code",
   "execution_count": 99,
   "metadata": {},
   "outputs": [
    {
     "name": "stdout",
     "output_type": "stream",
     "text": [
      "257\n",
      "\n",
      "257\n",
      "\n",
      "257\n",
      "\n",
      "257\n",
      "\n"
     ]
    }
   ],
   "source": [
    "# for i in range(len(up.stock_values)):\n",
    "    # for j in range(len(up.stock_values[i])):\n",
    "        # if up.stock_values[i][j] != follow_leader.stock_values[i][j]:\n",
    "            # print(i)\n",
    "            \n",
    "\n",
    "\n",
    "print(str(len(up.stock_values)) + '\\n')\n",
    "print(str(len(follow_leader.stock_values)) + '\\n')\n",
    "print(str(len(follow_regularized.stock_values)) + '\\n')\n",
    "print(str(len(online_gradient.stock_values)) + '\\n')"
   ]
  },
  {
   "cell_type": "code",
   "execution_count": 102,
   "metadata": {},
   "outputs": [
    {
     "data": {
      "image/png": "[encoded data removed]",
      "text/plain": [
       "<Figure size 432x288 with 1 Axes>"
      ]
     },
     "metadata": {
      "needs_background": "light"
     },
     "output_type": "display_data"
    }
   ],
   "source": [
    "# graphing\n",
    "x = [i for i in range(len(data) + 1)]\n",
    "plt.plot(x, up_performance.wealth, 'r', label='UP')\n",
    "plt.plot(x, ftl_performance.wealth, 'b', label='FTL')\n",
    "plt.plot(x, ftrl_performance.wealth, 'g', label='FTRL')\n",
    "plt.plot(x, ogd_performance.wealth, 'y', label='OGD')\n",
    "plt.legend(loc='upper left')\n",
    "plt.show()\n"
   ]
  },
  {
   "cell_type": "code",
   "execution_count": null,
   "metadata": {},
   "outputs": [],
   "source": []
  }
 ],
 "metadata": {
  "interpreter": {
   "hash": "a8f50b728cdad3941e646f7aa73ad63f29bac8fcc068a85200d8876621de5120"
  },
  "kernelspec": {
   "display_name": "Python 3 (ipykernel)",
   "language": "python",
   "name": "python3"
  },
  "language_info": {
   "codemirror_mode": {
    "name": "ipython",
    "version": 3
   },
   "file_extension": ".py",
   "mimetype": "text/x-python",
   "name": "python",
   "nbconvert_exporter": "python",
   "pygments_lexer": "ipython3",
   "version": "3.5.4"
  },
  "orig_nbformat": 4
 },
 "nbformat": 4,
 "nbformat_minor": 2
}
